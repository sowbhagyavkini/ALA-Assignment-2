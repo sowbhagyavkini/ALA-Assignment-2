{
  "nbformat": 4,
  "nbformat_minor": 0,
  "metadata": {
    "colab": {
      "provenance": []
    },
    "kernelspec": {
      "name": "python3",
      "display_name": "Python 3"
    }
  },
  "cells": [
    {
      "cell_type": "markdown",
      "source": [
        "---\n",
        "\n",
        "**Load essential libraries**\n",
        "\n",
        "---"
      ],
      "metadata": {
        "id": "C0o-zgcznSo2"
      }
    },
    {
      "cell_type": "code",
      "metadata": {
        "id": "9bXubpvoUUTn",
        "colab": {
          "base_uri": "https://localhost:8080/"
        },
        "outputId": "e649097e-9fa5-4338-b1c5-84745a1e5417"
      },
      "source": [
        "import pandas as pd\n",
        "import numpy as np\n",
        "import sys\n",
        "from scipy import linalg\n",
        "\n",
        "import matplotlib.pyplot as plt\n",
        "import matplotlib.cm as cm\n",
        "plt.style.use('seaborn-whitegrid')\n",
        "%matplotlib inline\n",
        "\n",
        "from sklearn.decomposition import PCA\n",
        "\n",
        "from sklearn.preprocessing import StandardScaler, RobustScaler\n",
        "from sklearn.datasets import make_blobs\n",
        "\n",
        "from scipy.sparse import random\n",
        "from scipy import stats"
      ],
      "execution_count": 1,
      "outputs": [
        {
          "output_type": "stream",
          "name": "stderr",
          "text": [
            "<ipython-input-1-bfe20d5c28dd>:8: MatplotlibDeprecationWarning: The seaborn styles shipped by Matplotlib are deprecated since 3.6, as they no longer correspond to the styles shipped by seaborn. However, they will remain available as 'seaborn-v0_8-<style>'. Alternatively, directly use the seaborn API instead.\n",
            "  plt.style.use('seaborn-whitegrid')\n"
          ]
        }
      ]
    },
    {
      "cell_type": "markdown",
      "source": [
        "---\n",
        "\n",
        "**The following code cell mounts the Google Drive folder for accessing data etc.**\n",
        "\n",
        "---"
      ],
      "metadata": {
        "id": "EGzvIEJknYAd"
      }
    },
    {
      "cell_type": "code",
      "metadata": {
        "id": "4-QDMWggVk1A"
      },
      "source": [
        "## Mount Google drive folder if running in Colab\n",
        "if('google.colab' in sys.modules):\n",
        "    from google.colab import drive\n",
        "    drive.mount('/content/drive', force_remount = True)\n",
        "    # Change path below starting from /content/drive/MyDrive/Colab Notebooks/\n",
        "    # depending on how data is organized inside your Colab Notebooks folder in\n",
        "    # Google Drive\n",
        "    DIR = '/content/drive/MyDrive/Colab Notebooks/MAHE/Workshops/Applied Machine Learning Workshop Canara Engineering College_August2023'\n",
        "    DATA_DIR = DIR+'/Data/'\n",
        "else:\n",
        "    DATA_DIR = 'Data/'"
      ],
      "execution_count": null,
      "outputs": []
    },
    {
      "cell_type": "markdown",
      "source": [
        "**Data Matrix**\n",
        "\n",
        "Patient dataset corresponding to 4 patients and 3 features:\n",
        "\n",
        "![Patient dataset](https://bl3302files.storage.live.com/y4mlspYO-L_1kEGpBOCUilkrcj3evQtgjGXDt6v2NgJwtsJf2OZVnwRnUht7CmW_wk8VMlMyGfhDqgRubB3pLHXAOe3r-pQ5wtYUuOqR_gsZzHWCqE2IEbhBjUZob5suLplmONyMsAjr1twDPK7eGODrKyav1dP1aX3lWx1YV0hiLvuTEZ7-GujIypTMkaSV2or?width=256&height=153&cropmode=none)"
      ],
      "metadata": {
        "id": "2Nwtpcbfn3Tz"
      }
    },
    {
      "cell_type": "code",
      "source": [
        "## Create patient data matrix\n",
        "df_patient = pd.DataFrame({'HR' : [76, 74, 72, 78],\n",
        "                           'BP' : [126, 120, 118, 136],\n",
        "                           'Temp': [38, 38, 37.5, 37]})\n",
        "\n",
        "print(df_patient)\n",
        "#df_patient.shape\n",
        "#df_patient.head()\n",
        "print('----------')\n",
        "A = np.array(df_patient)\n",
        "print(A)"
      ],
      "metadata": {
        "id": "Odjnvd1mn390",
        "colab": {
          "base_uri": "https://localhost:8080/"
        },
        "outputId": "0e0bc8d0-2c16-489d-da90-55183a505897"
      },
      "execution_count": 2,
      "outputs": [
        {
          "output_type": "stream",
          "name": "stdout",
          "text": [
            "   HR   BP  Temp\n",
            "0  76  126  38.0\n",
            "1  74  120  38.0\n",
            "2  72  118  37.5\n",
            "3  78  136  37.0\n",
            "----------\n",
            "[[ 76.  126.   38. ]\n",
            " [ 74.  120.   38. ]\n",
            " [ 72.  118.   37.5]\n",
            " [ 78.  136.   37. ]]\n"
          ]
        }
      ]
    },
    {
      "cell_type": "markdown",
      "source": [
        "\n",
        "---\n",
        "\n",
        "**Dot Product of Vectors**\n",
        "\n",
        "A scalar resulting from an elementwise multiplication and addition: $$a{\\color{cyan}\\cdot}b = {\\color{red}{a_1b_1}}+{\\color{green}{a_2b_2}}+\\cdots+{\\color{magenta}{a_nb_n}}$$\n",
        "\n",
        "The <font color=\"cyan\">dot</font> ${\\color{cyan}\\cdot}$ represents the computation of the dot product.\n",
        "\n",
        "---"
      ],
      "metadata": {
        "id": "YT-etkK_nkcb"
      }
    },
    {
      "cell_type": "code",
      "source": [
        "# Unit vectors\n",
        "e_1 = np.array([1, 0, 0, 0])\n",
        "e_3 = np.array([0, 0, 1, 0])\n",
        "\n",
        "# Ones vector\n",
        "o = np.array([1, 1, 1, 1])\n",
        "\n",
        "# Vector for 1st feature (heart rate)\n",
        "a_1 = A[:, 0]\n",
        "\n",
        "# Get 1st component of vector (heart rate for 1st patient)\n",
        "print(a_1[0])\n",
        "print(np.dot(a_1, e_1))\n",
        "print(np.dot(e_1, a_1))\n",
        "\n",
        "# Get 3rd component of vector (heart rate for 3rd patient)\n",
        "print(np.dot(a_1, e_3))\n",
        "\n",
        "# Get sum of 1st feature values (heart rate) for all patients\n",
        "print(np.sum(a_1))\n",
        "print(np.dot(a_1, o))\n",
        "\n",
        "# Average of 1st feature values (heart rate)\n",
        "print((1/len(a_1)) * np.dot(a_1, o))\n",
        "print(np.mean(a_1))"
      ],
      "metadata": {
        "id": "tVPMORxbnn-M",
        "colab": {
          "base_uri": "https://localhost:8080/"
        },
        "outputId": "6db23fa6-847f-4c3d-d757-9880a25bee10"
      },
      "execution_count": 3,
      "outputs": [
        {
          "output_type": "stream",
          "name": "stdout",
          "text": [
            "76.0\n",
            "76.0\n",
            "76.0\n",
            "72.0\n",
            "300.0\n",
            "300.0\n",
            "75.0\n",
            "75.0\n"
          ]
        }
      ]
    },
    {
      "cell_type": "markdown",
      "source": [
        "---\n",
        "\n",
        "**Cauchy-Schwarz inequality**\n",
        "\n",
        "For any two $n$-vectors $a,b,$ it is always true that $$-1\\leq\\frac{a\\cdot b}{\\lVert a\\rVert\\lVert b\\rVert}\\leq 1.$$\n",
        "\n",
        "This is used to define the cosine of the angle between the vectors $a$ and $b$ as follows:$$\\cos(\\angle(a,b)) = \\frac{a\\cdot b}{\\lVert a\\rVert\\lVert b\\rVert}.$$\n",
        "\n",
        "---"
      ],
      "metadata": {
        "id": "Tx6WqvqJo-Zc"
      }
    },
    {
      "cell_type": "code",
      "source": [
        "## Simulate a patient dataset\n",
        "#np.random.seed(100)\n",
        "nsamples = 100\n",
        "df = pd.DataFrame({'Heart Rate (BPM)' : np.round(np.random.normal(74, 4, nsamples)),\n",
        "                   'Blood Pressure (mm Hg)' : np.round(np.random.normal(126, 8, nsamples))})\n",
        "print(df)"
      ],
      "metadata": {
        "id": "aAVASM6fo_oU",
        "colab": {
          "base_uri": "https://localhost:8080/"
        },
        "outputId": "0744f4f8-ea5e-4c33-f881-b63fd662f223"
      },
      "execution_count": 4,
      "outputs": [
        {
          "output_type": "stream",
          "name": "stdout",
          "text": [
            "    Heart Rate (BPM)  Blood Pressure (mm Hg)\n",
            "0               80.0                   148.0\n",
            "1               67.0                   112.0\n",
            "2               73.0                   122.0\n",
            "3               73.0                   126.0\n",
            "4               69.0                   117.0\n",
            "..               ...                     ...\n",
            "95              75.0                   120.0\n",
            "96              71.0                   115.0\n",
            "97              72.0                   125.0\n",
            "98              73.0                   124.0\n",
            "99              75.0                   126.0\n",
            "\n",
            "[100 rows x 2 columns]\n"
          ]
        }
      ]
    },
    {
      "cell_type": "code",
      "source": [
        "# Vector of heart rate and blood pressure\n",
        "a = df['Heart Rate (BPM)']\n",
        "b = df['Blood Pressure (mm Hg)']\n",
        "print(np.dot(a, b)) # Dot-product between the original vectors do not reveal much\n",
        "print(np.dot(a, b) / (np.linalg.norm(a) * np.linalg.norm(b))) # Recall angle(a,b) acos(aT*b/(||a||*||b||))\n",
        "\n",
        "# Mean-centered heart rate and blood pressure vectors\n",
        "a_mc = a - np.mean(a)\n",
        "b_mc = b - np.mean(b)\n",
        "print(np.dot(a_mc, b_mc)) # Covariance between a and b\n",
        "print(np.dot(a_mc, b_mc) / (np.linalg.norm(a_mc) * np.linalg.norm(b_mc))) # Correlation coefficient\n",
        "\n",
        "fig, ax = plt.subplots(1)\n",
        "ax.scatter(a, b, marker = 'o', color = 'blue')\n",
        "ax.set_xlabel('Heart Rate (BPM)')\n",
        "ax.set_ylabel('Blood Pressure (mm Hg')\n",
        "ax.set_title('Heart Rate vs. Blood Pressure')\n",
        "ax.set_xlim([0, np.max(a)])\n",
        "ax.set_ylim([0, np.max(b)])"
      ],
      "metadata": {
        "id": "_V2iYc7LpUbh",
        "colab": {
          "base_uri": "https://localhost:8080/",
          "height": 552
        },
        "outputId": "ff243397-1d3f-4281-c538-653498396c48"
      },
      "execution_count": 5,
      "outputs": [
        {
          "output_type": "stream",
          "name": "stdout",
          "text": [
            "925025.0\n",
            "0.9959259992641096\n",
            "-109.21000000000005\n",
            "-0.030775850215311963\n"
          ]
        },
        {
          "output_type": "execute_result",
          "data": {
            "text/plain": [
              "(0.0, 150.0)"
            ]
          },
          "metadata": {},
          "execution_count": 5
        },
        {
          "output_type": "display_data",
          "data": {
            "text/plain": [
              "<Figure size 640x480 with 1 Axes>"
            ],
            "image/png": "[encoded data removed]"
          },
          "metadata": {}
        }
      ]
    },
    {
      "cell_type": "markdown",
      "source": [
        "**Projection of vectors and its relationship to dot product**\n",
        "\n",
        "![Vector projection](https://bl3302files.storage.live.com/y4miuCtKP9ptv6lIB8EqEU_u7cbEydy0UsEgHl4ECni2UVONtvKZgf73pIQ4vuA99ZHP8K96W_1i-QuhSIN12IudLaUTF3_jZzFqVfsaRK7QubMS9p5C1ErN6tB8I_UqQZnSY2JSGnu0IvJQrRcd2rX2Hzngfka3tCqJhbAMdElywcis2gRaoiuEGDVqaXpZYYp?width=256&height=209&cropmode=none)"
      ],
      "metadata": {
        "id": "C6xSd4hyr0ti"
      }
    },
    {
      "cell_type": "code",
      "source": [
        "#Variance of the heart rates (BPM^2)\n",
        "np.mean((a-np.mean(a))**2)"
      ],
      "metadata": {
        "id": "yajyVK_NjZx7",
        "colab": {
          "base_uri": "https://localhost:8080/"
        },
        "outputId": "53704662-8005-45fa-9951-fb80c79fb814"
      },
      "execution_count": 7,
      "outputs": [
        {
          "output_type": "execute_result",
          "data": {
            "text/plain": [
              "15.9659"
            ]
          },
          "metadata": {},
          "execution_count": 7
        }
      ]
    },
    {
      "cell_type": "code",
      "source": [
        "# standard deviation of the heart rates(BPM)\n",
        "np.sqrt(np.mean((a-np.mean(a))**2))"
      ],
      "metadata": {
        "id": "A1Q2DQUpkGum",
        "colab": {
          "base_uri": "https://localhost:8080/"
        },
        "outputId": "e19f2edf-e0d4-4d6c-c5a9-13889bb022a5"
      },
      "execution_count": 8,
      "outputs": [
        {
          "output_type": "execute_result",
          "data": {
            "text/plain": [
              "3.995735226463335"
            ]
          },
          "metadata": {},
          "execution_count": 8
        }
      ]
    },
    {
      "cell_type": "code",
      "source": [
        "A"
      ],
      "metadata": {
        "colab": {
          "base_uri": "https://localhost:8080/"
        },
        "id": "pmy0_gTkMk5u",
        "outputId": "850ed822-ac77-4dec-e62a-b7a97dfc252b"
      },
      "execution_count": 9,
      "outputs": [
        {
          "output_type": "execute_result",
          "data": {
            "text/plain": [
              "array([[ 76. , 126. ,  38. ],\n",
              "       [ 74. , 120. ,  38. ],\n",
              "       [ 72. , 118. ,  37.5],\n",
              "       [ 78. , 136. ,  37. ]])"
            ]
          },
          "metadata": {},
          "execution_count": 9
        }
      ]
    },
    {
      "cell_type": "code",
      "source": [],
      "metadata": {
        "id": "33Py38LwMwDA"
      },
      "execution_count": null,
      "outputs": []
    },
    {
      "cell_type": "code",
      "source": [
        "v = np.array([1,1,1])\n",
        "print(np.dot(A[0, :], v) / np.linalg.norm(v))\n",
        "print(np.dot(A[1, :], v) / np.linalg.norm(v))\n",
        "print(np.dot(A[2, :], v) / np.linalg.norm(v))\n",
        "print(np.dot(A[3, :], v) / np.linalg.norm(v))"
      ],
      "metadata": {
        "id": "XlmMiSOso6cq",
        "colab": {
          "base_uri": "https://localhost:8080/"
        },
        "outputId": "eb4545a8-9689-4e0e-9040-eeb331a9c06d"
      },
      "execution_count": 10,
      "outputs": [
        {
          "output_type": "stream",
          "name": "stdout",
          "text": [
            "138.5640646055102\n",
            "133.9452624519932\n",
            "131.34718624063987\n",
            "144.91491756659607\n"
          ]
        }
      ]
    },
    {
      "cell_type": "code",
      "source": [
        "np.dot(A, v)/np.linalg.norm(v)"
      ],
      "metadata": {
        "id": "sKo2V2pqpmt2",
        "colab": {
          "base_uri": "https://localhost:8080/"
        },
        "outputId": "fc107b18-c5e6-43c2-bd15-5c87b995c66e"
      },
      "execution_count": 11,
      "outputs": [
        {
          "output_type": "execute_result",
          "data": {
            "text/plain": [
              "array([138.56406461, 133.94526245, 131.34718624, 144.91491757])"
            ]
          },
          "metadata": {},
          "execution_count": 11
        }
      ]
    },
    {
      "cell_type": "code",
      "source": [
        "## Scalar projection of first patient onto a direction v\n",
        "v = np.array([1, 0, 0])\n",
        "print(np.dot(A[0], v) / np.linalg.norm(v))\n",
        "v = np.array([0, 1, 0])\n",
        "print(np.dot(A[0], v) / np.linalg.norm(v))\n",
        "v = np.array([1, 1, 1])\n",
        "print(np.dot(A[0], v) / np.linalg.norm(v))\n",
        "v = np.array([-1, -1, -1])\n",
        "print(np.dot(A[0], v) / np.linalg.norm(v))"
      ],
      "metadata": {
        "id": "ODKXD_zEVYf4",
        "colab": {
          "base_uri": "https://localhost:8080/"
        },
        "outputId": "9b6e27d9-2f01-4ce1-d73d-758a5805ddf8"
      },
      "execution_count": 14,
      "outputs": [
        {
          "output_type": "stream",
          "name": "stdout",
          "text": [
            "76.0\n",
            "126.0\n",
            "38.0\n",
            "138.5640646055102\n",
            "-138.5640646055102\n"
          ]
        }
      ]
    },
    {
      "cell_type": "code",
      "source": [
        "## Scalar projection of all patients onto a direction v\n",
        "v = np.array([1, 0, 0])\n",
        "print((1/np.linalg.norm(v)) * np.dot(A, v))\n",
        "v = np.array([0, 1, 0])\n",
        "print((1/np.linalg.norm(v)) * np.dot(A, v))\n",
        "v = np.array([0, 0, 1])\n",
        "print(np.dot(A[0], v) / np.linalg.norm(v))\n",
        "v = np.array([1, 1, 1])\n",
        "print((1/np.linalg.norm(v)) * np.dot(A, v))\n",
        "v = np.array([-1, -1, -1])\n",
        "print((1/np.linalg.norm(v)) * np.dot(A, v))"
      ],
      "metadata": {
        "id": "hGzRCudzWrjk",
        "colab": {
          "base_uri": "https://localhost:8080/"
        },
        "outputId": "6192cb52-0c0f-4c2c-cd0c-3d4d07c80241"
      },
      "execution_count": 15,
      "outputs": [
        {
          "output_type": "stream",
          "name": "stdout",
          "text": [
            "[76. 74. 72. 78.]\n",
            "[126. 120. 118. 136.]\n",
            "38.0\n",
            "[138.56406461 133.94526245 131.34718624 144.91491757]\n",
            "[-138.56406461 -133.94526245 -131.34718624 -144.91491757]\n"
          ]
        }
      ]
    },
    {
      "cell_type": "markdown",
      "source": [
        "---\n",
        "\n",
        "Load food-texture data\n",
        "\n",
        "---"
      ],
      "metadata": {
        "id": "wAW4l69QsTza"
      }
    },
    {
      "cell_type": "code",
      "source": [
        "## Load data\n",
        "FILE =  '/content/food-texture (1).csv'\n",
        "df_food = pd.read_csv(FILE, index_col = 0)\n",
        "df_food.head()"
      ],
      "metadata": {
        "id": "Io6fXPHqsNFJ",
        "colab": {
          "base_uri": "https://localhost:8080/",
          "height": 206
        },
        "outputId": "09fc4854-658c-423b-da6c-f1860c4a2620"
      },
      "execution_count": 16,
      "outputs": [
        {
          "output_type": "execute_result",
          "data": {
            "text/plain": [
              "       Oil  Density  Crispy  Fracture  Hardness\n",
              "B110  16.5     2955      10        23        97\n",
              "B136  17.7     2660      14         9       139\n",
              "B171  16.2     2870      12        17       143\n",
              "B192  16.7     2920      10        31        95\n",
              "B225  16.3     2975      11        26       143"
            ],
            "text/html": [
              "\n",
              "  <div id=\"df-b0eada79-251d-4e42-85f7-98bbf8f84a26\" class=\"colab-df-container\">\n",
              "    <div>\n",
              "<style scoped>\n",
              "    .dataframe tbody tr th:only-of-type {\n",
              "        vertical-align: middle;\n",
              "    }\n",
              "\n",
              "    .dataframe tbody tr th {\n",
              "        vertical-align: top;\n",
              "    }\n",
              "\n",
              "    .dataframe thead th {\n",
              "        text-align: right;\n",
              "    }\n",
              "</style>\n",
              "<table border=\"1\" class=\"dataframe\">\n",
              "  <thead>\n",
              "    <tr style=\"text-align: right;\">\n",
              "      <th></th>\n",
              "      <th>Oil</th>\n",
              "      <th>Density</th>\n",
              "      <th>Crispy</th>\n",
              "      <th>Fracture</th>\n",
              "      <th>Hardness</th>\n",
              "    </tr>\n",
              "  </thead>\n",
              "  <tbody>\n",
              "    <tr>\n",
              "      <th>B110</th>\n",
              "      <td>16.5</td>\n",
              "      <td>2955</td>\n",
              "      <td>10</td>\n",
              "      <td>23</td>\n",
              "      <td>97</td>\n",
              "    </tr>\n",
              "    <tr>\n",
              "      <th>B136</th>\n",
              "      <td>17.7</td>\n",
              "      <td>2660</td>\n",
              "      <td>14</td>\n",
              "      <td>9</td>\n",
              "      <td>139</td>\n",
              "    </tr>\n",
              "    <tr>\n",
              "      <th>B171</th>\n",
              "      <td>16.2</td>\n",
              "      <td>2870</td>\n",
              "      <td>12</td>\n",
              "      <td>17</td>\n",
              "      <td>143</td>\n",
              "    </tr>\n",
              "    <tr>\n",
              "      <th>B192</th>\n",
              "      <td>16.7</td>\n",
              "      <td>2920</td>\n",
              "      <td>10</td>\n",
              "      <td>31</td>\n",
              "      <td>95</td>\n",
              "    </tr>\n",
              "    <tr>\n",
              "      <th>B225</th>\n",
              "      <td>16.3</td>\n",
              "      <td>2975</td>\n",
              "      <td>11</td>\n",
              "      <td>26</td>\n",
              "      <td>143</td>\n",
              "    </tr>\n",
              "  </tbody>\n",
              "</table>\n",
              "</div>\n",
              "    <div class=\"colab-df-buttons\">\n",
              "\n",
              "  <div class=\"colab-df-container\">\n",
              "    <button class=\"colab-df-convert\" onclick=\"convertToInteractive('df-b0eada79-251d-4e42-85f7-98bbf8f84a26')\"\n",
              "            title=\"Convert this dataframe to an interactive table.\"\n",
              "            style=\"display:none;\">\n",
              "\n",
              "  <svg xmlns=\"http://www.w3.org/2000/svg\" height=\"24px\" viewBox=\"0 -960 960 960\">\n",
              "    <path d=\"M120-120v-720h720v720H120Zm60-500h600v-160H180v160Zm220 220h160v-160H400v160Zm0 220h160v-160H400v160ZM180-400h160v-160H180v160Zm440 0h160v-160H620v160ZM180-180h160v-160H180v160Zm440 0h160v-160H620v160Z\"/>\n",
              "  </svg>\n",
              "    </button>\n",
              "\n",
              "  <style>\n",
              "    .colab-df-container {\n",
              "      display:flex;\n",
              "      gap: 12px;\n",
              "    }\n",
              "\n",
              "    .colab-df-convert {\n",
              "      background-color: #E8F0FE;\n",
              "      border: none;\n",
              "      border-radius: 50%;\n",
              "      cursor: pointer;\n",
              "      display: none;\n",
              "      fill: #1967D2;\n",
              "      height: 32px;\n",
              "      padding: 0 0 0 0;\n",
              "      width: 32px;\n",
              "    }\n",
              "\n",
              "    .colab-df-convert:hover {\n",
              "      background-color: #E2EBFA;\n",
              "      box-shadow: 0px 1px 2px rgba(60, 64, 67, 0.3), 0px 1px 3px 1px rgba(60, 64, 67, 0.15);\n",
              "      fill: #174EA6;\n",
              "    }\n",
              "\n",
              "    .colab-df-buttons div {\n",
              "      margin-bottom: 4px;\n",
              "    }\n",
              "\n",
              "    [theme=dark] .colab-df-convert {\n",
              "      background-color: #3B4455;\n",
              "      fill: #D2E3FC;\n",
              "    }\n",
              "\n",
              "    [theme=dark] .colab-df-convert:hover {\n",
              "      background-color: #434B5C;\n",
              "      box-shadow: 0px 1px 3px 1px rgba(0, 0, 0, 0.15);\n",
              "      filter: drop-shadow(0px 1px 2px rgba(0, 0, 0, 0.3));\n",
              "      fill: #FFFFFF;\n",
              "    }\n",
              "  </style>\n",
              "\n",
              "    <script>\n",
              "      const buttonEl =\n",
              "        document.querySelector('#df-b0eada79-251d-4e42-85f7-98bbf8f84a26 button.colab-df-convert');\n",
              "      buttonEl.style.display =\n",
              "        google.colab.kernel.accessAllowed ? 'block' : 'none';\n",
              "\n",
              "      async function convertToInteractive(key) {\n",
              "        const element = document.querySelector('#df-b0eada79-251d-4e42-85f7-98bbf8f84a26');\n",
              "        const dataTable =\n",
              "          await google.colab.kernel.invokeFunction('convertToInteractive',\n",
              "                                                    [key], {});\n",
              "        if (!dataTable) return;\n",
              "\n",
              "        const docLinkHtml = 'Like what you see? Visit the ' +\n",
              "          '<a target=\"_blank\" href=https://colab.research.google.com/notebooks/data_table.ipynb>data table notebook</a>'\n",
              "          + ' to learn more about interactive tables.';\n",
              "        element.innerHTML = '';\n",
              "        dataTable['output_type'] = 'display_data';\n",
              "        await google.colab.output.renderOutput(dataTable, element);\n",
              "        const docLink = document.createElement('div');\n",
              "        docLink.innerHTML = docLinkHtml;\n",
              "        element.appendChild(docLink);\n",
              "      }\n",
              "    </script>\n",
              "  </div>\n",
              "\n",
              "\n",
              "<div id=\"df-3970897b-8c07-4c18-aeb0-0b56bc5170d4\">\n",
              "  <button class=\"colab-df-quickchart\" onclick=\"quickchart('df-3970897b-8c07-4c18-aeb0-0b56bc5170d4')\"\n",
              "            title=\"Suggest charts\"\n",
              "            style=\"display:none;\">\n",
              "\n",
              "<svg xmlns=\"http://www.w3.org/2000/svg\" height=\"24px\"viewBox=\"0 0 24 24\"\n",
              "     width=\"24px\">\n",
              "    <g>\n",
              "        <path d=\"M19 3H5c-1.1 0-2 .9-2 2v14c0 1.1.9 2 2 2h14c1.1 0 2-.9 2-2V5c0-1.1-.9-2-2-2zM9 17H7v-7h2v7zm4 0h-2V7h2v10zm4 0h-2v-4h2v4z\"/>\n",
              "    </g>\n",
              "</svg>\n",
              "  </button>\n",
              "\n",
              "<style>\n",
              "  .colab-df-quickchart {\n",
              "      --bg-color: #E8F0FE;\n",
              "      --fill-color: #1967D2;\n",
              "      --hover-bg-color: #E2EBFA;\n",
              "      --hover-fill-color: #174EA6;\n",
              "      --disabled-fill-color: #AAA;\n",
              "      --disabled-bg-color: #DDD;\n",
              "  }\n",
              "\n",
              "  [theme=dark] .colab-df-quickchart {\n",
              "      --bg-color: #3B4455;\n",
              "      --fill-color: #D2E3FC;\n",
              "      --hover-bg-color: #434B5C;\n",
              "      --hover-fill-color: #FFFFFF;\n",
              "      --disabled-bg-color: #3B4455;\n",
              "      --disabled-fill-color: #666;\n",
              "  }\n",
              "\n",
              "  .colab-df-quickchart {\n",
              "    background-color: var(--bg-color);\n",
              "    border: none;\n",
              "    border-radius: 50%;\n",
              "    cursor: pointer;\n",
              "    display: none;\n",
              "    fill: var(--fill-color);\n",
              "    height: 32px;\n",
              "    padding: 0;\n",
              "    width: 32px;\n",
              "  }\n",
              "\n",
              "  .colab-df-quickchart:hover {\n",
              "    background-color: var(--hover-bg-color);\n",
              "    box-shadow: 0 1px 2px rgba(60, 64, 67, 0.3), 0 1px 3px 1px rgba(60, 64, 67, 0.15);\n",
              "    fill: var(--button-hover-fill-color);\n",
              "  }\n",
              "\n",
              "  .colab-df-quickchart-complete:disabled,\n",
              "  .colab-df-quickchart-complete:disabled:hover {\n",
              "    background-color: var(--disabled-bg-color);\n",
              "    fill: var(--disabled-fill-color);\n",
              "    box-shadow: none;\n",
              "  }\n",
              "\n",
              "  .colab-df-spinner {\n",
              "    border: 2px solid var(--fill-color);\n",
              "    border-color: transparent;\n",
              "    border-bottom-color: var(--fill-color);\n",
              "    animation:\n",
              "      spin 1s steps(1) infinite;\n",
              "  }\n",
              "\n",
              "  @keyframes spin {\n",
              "    0% {\n",
              "      border-color: transparent;\n",
              "      border-bottom-color: var(--fill-color);\n",
              "      border-left-color: var(--fill-color);\n",
              "    }\n",
              "    20% {\n",
              "      border-color: transparent;\n",
              "      border-left-color: var(--fill-color);\n",
              "      border-top-color: var(--fill-color);\n",
              "    }\n",
              "    30% {\n",
              "      border-color: transparent;\n",
              "      border-left-color: var(--fill-color);\n",
              "      border-top-color: var(--fill-color);\n",
              "      border-right-color: var(--fill-color);\n",
              "    }\n",
              "    40% {\n",
              "      border-color: transparent;\n",
              "      border-right-color: var(--fill-color);\n",
              "      border-top-color: var(--fill-color);\n",
              "    }\n",
              "    60% {\n",
              "      border-color: transparent;\n",
              "      border-right-color: var(--fill-color);\n",
              "    }\n",
              "    80% {\n",
              "      border-color: transparent;\n",
              "      border-right-color: var(--fill-color);\n",
              "      border-bottom-color: var(--fill-color);\n",
              "    }\n",
              "    90% {\n",
              "      border-color: transparent;\n",
              "      border-bottom-color: var(--fill-color);\n",
              "    }\n",
              "  }\n",
              "</style>\n",
              "\n",
              "  <script>\n",
              "    async function quickchart(key) {\n",
              "      const quickchartButtonEl =\n",
              "        document.querySelector('#' + key + ' button');\n",
              "      quickchartButtonEl.disabled = true;  // To prevent multiple clicks.\n",
              "      quickchartButtonEl.classList.add('colab-df-spinner');\n",
              "      try {\n",
              "        const charts = await google.colab.kernel.invokeFunction(\n",
              "            'suggestCharts', [key], {});\n",
              "      } catch (error) {\n",
              "        console.error('Error during call to suggestCharts:', error);\n",
              "      }\n",
              "      quickchartButtonEl.classList.remove('colab-df-spinner');\n",
              "      quickchartButtonEl.classList.add('colab-df-quickchart-complete');\n",
              "    }\n",
              "    (() => {\n",
              "      let quickchartButtonEl =\n",
              "        document.querySelector('#df-3970897b-8c07-4c18-aeb0-0b56bc5170d4 button');\n",
              "      quickchartButtonEl.style.display =\n",
              "        google.colab.kernel.accessAllowed ? 'block' : 'none';\n",
              "    })();\n",
              "  </script>\n",
              "</div>\n",
              "    </div>\n",
              "  </div>\n"
            ]
          },
          "metadata": {},
          "execution_count": 16
        }
      ]
    },
    {
      "cell_type": "code",
      "source": [
        "## Print the names of the rows & columns in the dataframe\n",
        "print(df_food.index)\n",
        "print(df_food.columns)"
      ],
      "metadata": {
        "id": "f7lW45FMsYsw",
        "colab": {
          "base_uri": "https://localhost:8080/"
        },
        "outputId": "b3cec83f-ffeb-4d48-bdbb-bd7d36e85e44"
      },
      "execution_count": 17,
      "outputs": [
        {
          "output_type": "stream",
          "name": "stdout",
          "text": [
            "Index(['B110', 'B136', 'B171', 'B192', 'B225', 'B237', 'B261', 'B264', 'B353',\n",
            "       'B360', 'B366', 'B377', 'B391', 'B397', 'B404', 'B437', 'B445', 'B462',\n",
            "       'B485', 'B488', 'B502', 'B554', 'B556', 'B575', 'B576', 'B605', 'B612',\n",
            "       'B615', 'B649', 'B665', 'B674', 'B692', 'B694', 'B719', 'B727', 'B758',\n",
            "       'B776', 'B799', 'B836', 'B848', 'B861', 'B869', 'B876', 'B882', 'B889',\n",
            "       'B907', 'B911', 'B923', 'B971', 'B998'],\n",
            "      dtype='object')\n",
            "Index(['Oil', 'Density', 'Crispy', 'Fracture', 'Hardness'], dtype='object')\n"
          ]
        }
      ]
    },
    {
      "cell_type": "code",
      "source": [
        "## Get values in the 'Density' column\n",
        "print(df_food['Density'])"
      ],
      "metadata": {
        "id": "9QMB0Sd_se6g",
        "colab": {
          "base_uri": "https://localhost:8080/"
        },
        "outputId": "ade1fadf-61ae-4811-f506-289c6871749f"
      },
      "execution_count": 18,
      "outputs": [
        {
          "output_type": "stream",
          "name": "stdout",
          "text": [
            "B110    2955\n",
            "B136    2660\n",
            "B171    2870\n",
            "B192    2920\n",
            "B225    2975\n",
            "B237    2790\n",
            "B261    2750\n",
            "B264    2770\n",
            "B353    2955\n",
            "B360    2945\n",
            "B366    2830\n",
            "B377    2835\n",
            "B391    2860\n",
            "B397    2965\n",
            "B404    2930\n",
            "B437    2770\n",
            "B445    2650\n",
            "B462    2890\n",
            "B485    2695\n",
            "B488    2755\n",
            "B502    3000\n",
            "B554    2980\n",
            "B556    2780\n",
            "B575    2705\n",
            "B576    2825\n",
            "B605    2875\n",
            "B612    2945\n",
            "B615    2920\n",
            "B649    2845\n",
            "B665    2645\n",
            "B674    3080\n",
            "B692    2825\n",
            "B694    3125\n",
            "B719    2780\n",
            "B727    2900\n",
            "B758    2570\n",
            "B776    2635\n",
            "B799    2725\n",
            "B836    2865\n",
            "B848    2975\n",
            "B861    2980\n",
            "B869    2870\n",
            "B876    2920\n",
            "B882    3100\n",
            "B889    2910\n",
            "B907    2865\n",
            "B911    2995\n",
            "B923    2925\n",
            "B971    2700\n",
            "B998    2845\n",
            "Name: Density, dtype: int64\n"
          ]
        }
      ]
    },
    {
      "cell_type": "code",
      "source": [
        "## Get features for the sample B136\n",
        "print(df_food.loc['B136', :])"
      ],
      "metadata": {
        "id": "N7b5i4plshwn",
        "colab": {
          "base_uri": "https://localhost:8080/"
        },
        "outputId": "e93214b5-314d-49e8-f2e4-4c024dcc6107"
      },
      "execution_count": 19,
      "outputs": [
        {
          "output_type": "stream",
          "name": "stdout",
          "text": [
            "Oil           17.7\n",
            "Density     2660.0\n",
            "Crispy        14.0\n",
            "Fracture       9.0\n",
            "Hardness     139.0\n",
            "Name: B136, dtype: float64\n"
          ]
        }
      ]
    },
    {
      "cell_type": "code",
      "source": [
        "## Get 'Oil' and 'Density' values for the\n",
        "## samples B136 and B225\n",
        "feature_names = ['Oil', 'Density']\n",
        "sample_names = ['B136', 'B225']\n",
        "df_food.loc[sample_names, feature_names]"
      ],
      "metadata": {
        "id": "EHtb2jPdsnmK",
        "colab": {
          "base_uri": "https://localhost:8080/",
          "height": 112
        },
        "outputId": "61ae0241-1b7e-4ba1-fdfe-70cc7c049d47"
      },
      "execution_count": 20,
      "outputs": [
        {
          "output_type": "execute_result",
          "data": {
            "text/plain": [
              "       Oil  Density\n",
              "B136  17.7     2660\n",
              "B225  16.3     2975"
            ],
            "text/html": [
              "\n",
              "  <div id=\"df-75edd5ed-b0c1-4d7e-aa08-0aec6aa78ef8\" class=\"colab-df-container\">\n",
              "    <div>\n",
              "<style scoped>\n",
              "    .dataframe tbody tr th:only-of-type {\n",
              "        vertical-align: middle;\n",
              "    }\n",
              "\n",
              "    .dataframe tbody tr th {\n",
              "        vertical-align: top;\n",
              "    }\n",
              "\n",
              "    .dataframe thead th {\n",
              "        text-align: right;\n",
              "    }\n",
              "</style>\n",
              "<table border=\"1\" class=\"dataframe\">\n",
              "  <thead>\n",
              "    <tr style=\"text-align: right;\">\n",
              "      <th></th>\n",
              "      <th>Oil</th>\n",
              "      <th>Density</th>\n",
              "    </tr>\n",
              "  </thead>\n",
              "  <tbody>\n",
              "    <tr>\n",
              "      <th>B136</th>\n",
              "      <td>17.7</td>\n",
              "      <td>2660</td>\n",
              "    </tr>\n",
              "    <tr>\n",
              "      <th>B225</th>\n",
              "      <td>16.3</td>\n",
              "      <td>2975</td>\n",
              "    </tr>\n",
              "  </tbody>\n",
              "</table>\n",
              "</div>\n",
              "    <div class=\"colab-df-buttons\">\n",
              "\n",
              "  <div class=\"colab-df-container\">\n",
              "    <button class=\"colab-df-convert\" onclick=\"convertToInteractive('df-75edd5ed-b0c1-4d7e-aa08-0aec6aa78ef8')\"\n",
              "            title=\"Convert this dataframe to an interactive table.\"\n",
              "            style=\"display:none;\">\n",
              "\n",
              "  <svg xmlns=\"http://www.w3.org/2000/svg\" height=\"24px\" viewBox=\"0 -960 960 960\">\n",
              "    <path d=\"M120-120v-720h720v720H120Zm60-500h600v-160H180v160Zm220 220h160v-160H400v160Zm0 220h160v-160H400v160ZM180-400h160v-160H180v160Zm440 0h160v-160H620v160ZM180-180h160v-160H180v160Zm440 0h160v-160H620v160Z\"/>\n",
              "  </svg>\n",
              "    </button>\n",
              "\n",
              "  <style>\n",
              "    .colab-df-container {\n",
              "      display:flex;\n",
              "      gap: 12px;\n",
              "    }\n",
              "\n",
              "    .colab-df-convert {\n",
              "      background-color: #E8F0FE;\n",
              "      border: none;\n",
              "      border-radius: 50%;\n",
              "      cursor: pointer;\n",
              "      display: none;\n",
              "      fill: #1967D2;\n",
              "      height: 32px;\n",
              "      padding: 0 0 0 0;\n",
              "      width: 32px;\n",
              "    }\n",
              "\n",
              "    .colab-df-convert:hover {\n",
              "      background-color: #E2EBFA;\n",
              "      box-shadow: 0px 1px 2px rgba(60, 64, 67, 0.3), 0px 1px 3px 1px rgba(60, 64, 67, 0.15);\n",
              "      fill: #174EA6;\n",
              "    }\n",
              "\n",
              "    .colab-df-buttons div {\n",
              "      margin-bottom: 4px;\n",
              "    }\n",
              "\n",
              "    [theme=dark] .colab-df-convert {\n",
              "      background-color: #3B4455;\n",
              "      fill: #D2E3FC;\n",
              "    }\n",
              "\n",
              "    [theme=dark] .colab-df-convert:hover {\n",
              "      background-color: #434B5C;\n",
              "      box-shadow: 0px 1px 3px 1px rgba(0, 0, 0, 0.15);\n",
              "      filter: drop-shadow(0px 1px 2px rgba(0, 0, 0, 0.3));\n",
              "      fill: #FFFFFF;\n",
              "    }\n",
              "  </style>\n",
              "\n",
              "    <script>\n",
              "      const buttonEl =\n",
              "        document.querySelector('#df-75edd5ed-b0c1-4d7e-aa08-0aec6aa78ef8 button.colab-df-convert');\n",
              "      buttonEl.style.display =\n",
              "        google.colab.kernel.accessAllowed ? 'block' : 'none';\n",
              "\n",
              "      async function convertToInteractive(key) {\n",
              "        const element = document.querySelector('#df-75edd5ed-b0c1-4d7e-aa08-0aec6aa78ef8');\n",
              "        const dataTable =\n",
              "          await google.colab.kernel.invokeFunction('convertToInteractive',\n",
              "                                                    [key], {});\n",
              "        if (!dataTable) return;\n",
              "\n",
              "        const docLinkHtml = 'Like what you see? Visit the ' +\n",
              "          '<a target=\"_blank\" href=https://colab.research.google.com/notebooks/data_table.ipynb>data table notebook</a>'\n",
              "          + ' to learn more about interactive tables.';\n",
              "        element.innerHTML = '';\n",
              "        dataTable['output_type'] = 'display_data';\n",
              "        await google.colab.output.renderOutput(dataTable, element);\n",
              "        const docLink = document.createElement('div');\n",
              "        docLink.innerHTML = docLinkHtml;\n",
              "        element.appendChild(docLink);\n",
              "      }\n",
              "    </script>\n",
              "  </div>\n",
              "\n",
              "\n",
              "<div id=\"df-0583cf5f-1419-4144-8940-4fc1118432a0\">\n",
              "  <button class=\"colab-df-quickchart\" onclick=\"quickchart('df-0583cf5f-1419-4144-8940-4fc1118432a0')\"\n",
              "            title=\"Suggest charts\"\n",
              "            style=\"display:none;\">\n",
              "\n",
              "<svg xmlns=\"http://www.w3.org/2000/svg\" height=\"24px\"viewBox=\"0 0 24 24\"\n",
              "     width=\"24px\">\n",
              "    <g>\n",
              "        <path d=\"M19 3H5c-1.1 0-2 .9-2 2v14c0 1.1.9 2 2 2h14c1.1 0 2-.9 2-2V5c0-1.1-.9-2-2-2zM9 17H7v-7h2v7zm4 0h-2V7h2v10zm4 0h-2v-4h2v4z\"/>\n",
              "    </g>\n",
              "</svg>\n",
              "  </button>\n",
              "\n",
              "<style>\n",
              "  .colab-df-quickchart {\n",
              "      --bg-color: #E8F0FE;\n",
              "      --fill-color: #1967D2;\n",
              "      --hover-bg-color: #E2EBFA;\n",
              "      --hover-fill-color: #174EA6;\n",
              "      --disabled-fill-color: #AAA;\n",
              "      --disabled-bg-color: #DDD;\n",
              "  }\n",
              "\n",
              "  [theme=dark] .colab-df-quickchart {\n",
              "      --bg-color: #3B4455;\n",
              "      --fill-color: #D2E3FC;\n",
              "      --hover-bg-color: #434B5C;\n",
              "      --hover-fill-color: #FFFFFF;\n",
              "      --disabled-bg-color: #3B4455;\n",
              "      --disabled-fill-color: #666;\n",
              "  }\n",
              "\n",
              "  .colab-df-quickchart {\n",
              "    background-color: var(--bg-color);\n",
              "    border: none;\n",
              "    border-radius: 50%;\n",
              "    cursor: pointer;\n",
              "    display: none;\n",
              "    fill: var(--fill-color);\n",
              "    height: 32px;\n",
              "    padding: 0;\n",
              "    width: 32px;\n",
              "  }\n",
              "\n",
              "  .colab-df-quickchart:hover {\n",
              "    background-color: var(--hover-bg-color);\n",
              "    box-shadow: 0 1px 2px rgba(60, 64, 67, 0.3), 0 1px 3px 1px rgba(60, 64, 67, 0.15);\n",
              "    fill: var(--button-hover-fill-color);\n",
              "  }\n",
              "\n",
              "  .colab-df-quickchart-complete:disabled,\n",
              "  .colab-df-quickchart-complete:disabled:hover {\n",
              "    background-color: var(--disabled-bg-color);\n",
              "    fill: var(--disabled-fill-color);\n",
              "    box-shadow: none;\n",
              "  }\n",
              "\n",
              "  .colab-df-spinner {\n",
              "    border: 2px solid var(--fill-color);\n",
              "    border-color: transparent;\n",
              "    border-bottom-color: var(--fill-color);\n",
              "    animation:\n",
              "      spin 1s steps(1) infinite;\n",
              "  }\n",
              "\n",
              "  @keyframes spin {\n",
              "    0% {\n",
              "      border-color: transparent;\n",
              "      border-bottom-color: var(--fill-color);\n",
              "      border-left-color: var(--fill-color);\n",
              "    }\n",
              "    20% {\n",
              "      border-color: transparent;\n",
              "      border-left-color: var(--fill-color);\n",
              "      border-top-color: var(--fill-color);\n",
              "    }\n",
              "    30% {\n",
              "      border-color: transparent;\n",
              "      border-left-color: var(--fill-color);\n",
              "      border-top-color: var(--fill-color);\n",
              "      border-right-color: var(--fill-color);\n",
              "    }\n",
              "    40% {\n",
              "      border-color: transparent;\n",
              "      border-right-color: var(--fill-color);\n",
              "      border-top-color: var(--fill-color);\n",
              "    }\n",
              "    60% {\n",
              "      border-color: transparent;\n",
              "      border-right-color: var(--fill-color);\n",
              "    }\n",
              "    80% {\n",
              "      border-color: transparent;\n",
              "      border-right-color: var(--fill-color);\n",
              "      border-bottom-color: var(--fill-color);\n",
              "    }\n",
              "    90% {\n",
              "      border-color: transparent;\n",
              "      border-bottom-color: var(--fill-color);\n",
              "    }\n",
              "  }\n",
              "</style>\n",
              "\n",
              "  <script>\n",
              "    async function quickchart(key) {\n",
              "      const quickchartButtonEl =\n",
              "        document.querySelector('#' + key + ' button');\n",
              "      quickchartButtonEl.disabled = true;  // To prevent multiple clicks.\n",
              "      quickchartButtonEl.classList.add('colab-df-spinner');\n",
              "      try {\n",
              "        const charts = await google.colab.kernel.invokeFunction(\n",
              "            'suggestCharts', [key], {});\n",
              "      } catch (error) {\n",
              "        console.error('Error during call to suggestCharts:', error);\n",
              "      }\n",
              "      quickchartButtonEl.classList.remove('colab-df-spinner');\n",
              "      quickchartButtonEl.classList.add('colab-df-quickchart-complete');\n",
              "    }\n",
              "    (() => {\n",
              "      let quickchartButtonEl =\n",
              "        document.querySelector('#df-0583cf5f-1419-4144-8940-4fc1118432a0 button');\n",
              "      quickchartButtonEl.style.display =\n",
              "        google.colab.kernel.accessAllowed ? 'block' : 'none';\n",
              "    })();\n",
              "  </script>\n",
              "</div>\n",
              "    </div>\n",
              "  </div>\n"
            ]
          },
          "metadata": {},
          "execution_count": 20
        }
      ]
    },
    {
      "cell_type": "code",
      "source": [
        "df_food.dtypes"
      ],
      "metadata": {
        "id": "CUchVFt1tAdc",
        "colab": {
          "base_uri": "https://localhost:8080/"
        },
        "outputId": "20442277-f81f-4030-d1f2-e6d7a6a3f6f3"
      },
      "execution_count": 21,
      "outputs": [
        {
          "output_type": "execute_result",
          "data": {
            "text/plain": [
              "Oil         float64\n",
              "Density       int64\n",
              "Crispy        int64\n",
              "Fracture      int64\n",
              "Hardness      int64\n",
              "dtype: object"
            ]
          },
          "metadata": {},
          "execution_count": 21
        }
      ]
    },
    {
      "cell_type": "code",
      "source": [
        "## Create a list of continuous and categorical column names\n",
        "continuous_cols = ['Oil', 'Density', 'Fracture', 'Hardness']\n",
        "categorical_cols = ['Crispy']\n",
        "\n",
        "# Typecasting\n",
        "df_food[categorical_cols] = df_food[categorical_cols].astype('category')\n",
        "df_food[continuous_cols] = df_food[continuous_cols].astype('float64')"
      ],
      "metadata": {
        "id": "99ebX4RCswUV"
      },
      "execution_count": 22,
      "outputs": []
    },
    {
      "cell_type": "code",
      "source": [
        "## Print dataframe column types\n",
        "df_food.dtypes"
      ],
      "metadata": {
        "id": "mJn9_bz3s1jc",
        "colab": {
          "base_uri": "https://localhost:8080/"
        },
        "outputId": "43db8302-4e1d-43c2-e5a0-dc5f412c5fed"
      },
      "execution_count": 23,
      "outputs": [
        {
          "output_type": "execute_result",
          "data": {
            "text/plain": [
              "Oil          float64\n",
              "Density      float64\n",
              "Crispy      category\n",
              "Fracture     float64\n",
              "Hardness     float64\n",
              "dtype: object"
            ]
          },
          "metadata": {},
          "execution_count": 23
        }
      ]
    },
    {
      "cell_type": "markdown",
      "source": [
        "---\n",
        "\n",
        "Principal component analysis (PCA) of the dataset\n",
        "\n",
        "---"
      ],
      "metadata": {
        "id": "AzO98OkKtunl"
      }
    },
    {
      "cell_type": "code",
      "source": [
        "np.array(df_food[continuous_cols])"
      ],
      "metadata": {
        "id": "hFvO9QAq_P4c",
        "colab": {
          "base_uri": "https://localhost:8080/"
        },
        "outputId": "d19f9b98-5ab4-4631-8459-26a15fc2f0a1"
      },
      "execution_count": 24,
      "outputs": [
        {
          "output_type": "execute_result",
          "data": {
            "text/plain": [
              "array([[  16.5, 2955. ,   23. ,   97. ],\n",
              "       [  17.7, 2660. ,    9. ,  139. ],\n",
              "       [  16.2, 2870. ,   17. ,  143. ],\n",
              "       [  16.7, 2920. ,   31. ,   95. ],\n",
              "       [  16.3, 2975. ,   26. ,  143. ],\n",
              "       [  19.1, 2790. ,   16. ,  189. ],\n",
              "       [  18.4, 2750. ,   17. ,  114. ],\n",
              "       [  17.5, 2770. ,   26. ,   63. ],\n",
              "       [  15.7, 2955. ,   23. ,  123. ],\n",
              "       [  16.4, 2945. ,   24. ,  132. ],\n",
              "       [  18. , 2830. ,   15. ,  121. ],\n",
              "       [  17.4, 2835. ,   18. ,  172. ],\n",
              "       [  18.4, 2860. ,   11. ,  170. ],\n",
              "       [  13.9, 2965. ,   19. ,  169. ],\n",
              "       [  15.8, 2930. ,   26. ,   65. ],\n",
              "       [  16.4, 2770. ,   16. ,  183. ],\n",
              "       [  18.9, 2650. ,   20. ,  114. ],\n",
              "       [  17.3, 2890. ,   17. ,  142. ],\n",
              "       [  16.7, 2695. ,   13. ,  111. ],\n",
              "       [  19.1, 2755. ,   10. ,  140. ],\n",
              "       [  13.7, 3000. ,   27. ,  177. ],\n",
              "       [  14.7, 2980. ,   20. ,  133. ],\n",
              "       [  18.1, 2780. ,   14. ,  150. ],\n",
              "       [  17.2, 2705. ,   27. ,  113. ],\n",
              "       [  18.7, 2825. ,   20. ,  166. ],\n",
              "       [  18.1, 2875. ,   15. ,  150. ],\n",
              "       [  16.6, 2945. ,   25. ,  100. ],\n",
              "       [  17.1, 2920. ,   25. ,  123. ],\n",
              "       [  17.4, 2845. ,   19. ,  129. ],\n",
              "       [  19.4, 2645. ,   18. ,   68. ],\n",
              "       [  15.9, 3080. ,   23. ,  106. ],\n",
              "       [  17.1, 2825. ,   28. ,  131. ],\n",
              "       [  15.5, 3125. ,   33. ,   92. ],\n",
              "       [  17.7, 2780. ,   22. ,  141. ],\n",
              "       [  15.9, 2900. ,   21. ,  192. ],\n",
              "       [  21.2, 2570. ,   13. ,  105. ],\n",
              "       [  19.5, 2635. ,   22. ,  101. ],\n",
              "       [  20.5, 2725. ,   16. ,  145. ],\n",
              "       [  17. , 2865. ,   22. ,  100. ],\n",
              "       [  16.7, 2975. ,   26. ,  105. ],\n",
              "       [  16.8, 2980. ,   24. ,  144. ],\n",
              "       [  16.8, 2870. ,   20. ,  123. ],\n",
              "       [  16.3, 2920. ,   22. ,  136. ],\n",
              "       [  16.2, 3100. ,   27. ,  140. ],\n",
              "       [  18.1, 2910. ,   21. ,  120. ],\n",
              "       [  16.6, 2865. ,   25. ,  120. ],\n",
              "       [  16.4, 2995. ,   20. ,  165. ],\n",
              "       [  15.1, 2925. ,   29. ,  118. ],\n",
              "       [  21.1, 2700. ,   16. ,  116. ],\n",
              "       [  16.3, 2845. ,   26. ,   75. ]])"
            ]
          },
          "metadata": {},
          "execution_count": 24
        }
      ]
    },
    {
      "cell_type": "code",
      "source": [
        "X = np.array(df_food[continuous_cols])\n",
        "X"
      ],
      "metadata": {
        "id": "Eg2yIVcqpE3P",
        "colab": {
          "base_uri": "https://localhost:8080/"
        },
        "outputId": "5b5b7532-df7d-4583-f9e7-8175f0f911ad"
      },
      "execution_count": 25,
      "outputs": [
        {
          "output_type": "execute_result",
          "data": {
            "text/plain": [
              "array([[  16.5, 2955. ,   23. ,   97. ],\n",
              "       [  17.7, 2660. ,    9. ,  139. ],\n",
              "       [  16.2, 2870. ,   17. ,  143. ],\n",
              "       [  16.7, 2920. ,   31. ,   95. ],\n",
              "       [  16.3, 2975. ,   26. ,  143. ],\n",
              "       [  19.1, 2790. ,   16. ,  189. ],\n",
              "       [  18.4, 2750. ,   17. ,  114. ],\n",
              "       [  17.5, 2770. ,   26. ,   63. ],\n",
              "       [  15.7, 2955. ,   23. ,  123. ],\n",
              "       [  16.4, 2945. ,   24. ,  132. ],\n",
              "       [  18. , 2830. ,   15. ,  121. ],\n",
              "       [  17.4, 2835. ,   18. ,  172. ],\n",
              "       [  18.4, 2860. ,   11. ,  170. ],\n",
              "       [  13.9, 2965. ,   19. ,  169. ],\n",
              "       [  15.8, 2930. ,   26. ,   65. ],\n",
              "       [  16.4, 2770. ,   16. ,  183. ],\n",
              "       [  18.9, 2650. ,   20. ,  114. ],\n",
              "       [  17.3, 2890. ,   17. ,  142. ],\n",
              "       [  16.7, 2695. ,   13. ,  111. ],\n",
              "       [  19.1, 2755. ,   10. ,  140. ],\n",
              "       [  13.7, 3000. ,   27. ,  177. ],\n",
              "       [  14.7, 2980. ,   20. ,  133. ],\n",
              "       [  18.1, 2780. ,   14. ,  150. ],\n",
              "       [  17.2, 2705. ,   27. ,  113. ],\n",
              "       [  18.7, 2825. ,   20. ,  166. ],\n",
              "       [  18.1, 2875. ,   15. ,  150. ],\n",
              "       [  16.6, 2945. ,   25. ,  100. ],\n",
              "       [  17.1, 2920. ,   25. ,  123. ],\n",
              "       [  17.4, 2845. ,   19. ,  129. ],\n",
              "       [  19.4, 2645. ,   18. ,   68. ],\n",
              "       [  15.9, 3080. ,   23. ,  106. ],\n",
              "       [  17.1, 2825. ,   28. ,  131. ],\n",
              "       [  15.5, 3125. ,   33. ,   92. ],\n",
              "       [  17.7, 2780. ,   22. ,  141. ],\n",
              "       [  15.9, 2900. ,   21. ,  192. ],\n",
              "       [  21.2, 2570. ,   13. ,  105. ],\n",
              "       [  19.5, 2635. ,   22. ,  101. ],\n",
              "       [  20.5, 2725. ,   16. ,  145. ],\n",
              "       [  17. , 2865. ,   22. ,  100. ],\n",
              "       [  16.7, 2975. ,   26. ,  105. ],\n",
              "       [  16.8, 2980. ,   24. ,  144. ],\n",
              "       [  16.8, 2870. ,   20. ,  123. ],\n",
              "       [  16.3, 2920. ,   22. ,  136. ],\n",
              "       [  16.2, 3100. ,   27. ,  140. ],\n",
              "       [  18.1, 2910. ,   21. ,  120. ],\n",
              "       [  16.6, 2865. ,   25. ,  120. ],\n",
              "       [  16.4, 2995. ,   20. ,  165. ],\n",
              "       [  15.1, 2925. ,   29. ,  118. ],\n",
              "       [  21.1, 2700. ,   16. ,  116. ],\n",
              "       [  16.3, 2845. ,   26. ,   75. ]])"
            ]
          },
          "metadata": {},
          "execution_count": 25
        }
      ]
    },
    {
      "cell_type": "code",
      "source": [
        "# numpy array of data\n",
        "X = np.array(df_food[continuous_cols])\n",
        "# Cree and fit PCA object\n",
        "pca = PCA(n_components = 1)\n",
        "pca.fit(X)\n",
        "\n",
        "# Print principal components\n",
        "print(pca.components_)\n",
        "\n",
        "# Print explained variance\n",
        "print(pca.explained_variance_)"
      ],
      "metadata": {
        "id": "A5x0syMhs6xt",
        "colab": {
          "base_uri": "https://localhost:8080/"
        },
        "outputId": "68da0f8d-643b-4ed0-843b-3499c6b09519"
      },
      "execution_count": 54,
      "outputs": [
        {
          "output_type": "stream",
          "name": "stdout",
          "text": [
            "[[ 0.00958687 -0.99923202 -0.0249962  -0.02861215]]\n",
            "[15523.38854181]\n"
          ]
        }
      ]
    },
    {
      "cell_type": "code",
      "source": [
        "#v = np.array([1,1,1,1])\n",
        "v = pca.components_.flatten()\n",
        "print(v)\n",
        "print(np.linalg.norm(v))\n",
        "X_projected = np.dot(X,v) / np.linalg.norm(v)\n",
        "print(np.var(X_projected))\n",
        "fig , ax = plt.subplots(1,1,figsize = (6,4))\n",
        "fig.tight_layout(pad=4.0)\n",
        "ax.set_xlim([-4000,4000])\n",
        "ax.scatter(X_projected,np.zeros(len(X_projected)))\n"
      ],
      "metadata": {
        "colab": {
          "base_uri": "https://localhost:8080/",
          "height": 389
        },
        "id": "oKTVRf2JQZvm",
        "outputId": "80290277-cdde-4a45-ea3c-d6b2bfceaa5e"
      },
      "execution_count": 56,
      "outputs": [
        {
          "output_type": "stream",
          "name": "stdout",
          "text": [
            "[ 0.00958687 -0.99923202 -0.0249962  -0.02861215]\n",
            "1.0000000000000002\n",
            "15212.920770976974\n"
          ]
        },
        {
          "output_type": "execute_result",
          "data": {
            "text/plain": [
              "<matplotlib.collections.PathCollection at 0x7dd03cf74700>"
            ]
          },
          "metadata": {},
          "execution_count": 56
        },
        {
          "output_type": "display_data",
          "data": {
            "text/plain": [
              "<Figure size 600x400 with 1 Axes>"
            ],
            "image/png": "[encoded data removed]"
          },
          "metadata": {}
        }
      ]
    },
    {
      "cell_type": "code",
      "source": [
        "df_food[continuous_cols].columns"
      ],
      "metadata": {
        "id": "KF2Jm-kABHqA",
        "colab": {
          "base_uri": "https://localhost:8080/"
        },
        "outputId": "a87d4a96-7013-48f6-a4e8-5f1b37c276ee"
      },
      "execution_count": 37,
      "outputs": [
        {
          "output_type": "execute_result",
          "data": {
            "text/plain": [
              "Index(['Oil', 'Density', 'Fracture', 'Hardness'], dtype='object')"
            ]
          },
          "metadata": {},
          "execution_count": 37
        }
      ]
    },
    {
      "cell_type": "code",
      "source": [
        "df_food['Density']"
      ],
      "metadata": {
        "id": "SpROgza6CWik",
        "colab": {
          "base_uri": "https://localhost:8080/"
        },
        "outputId": "17a18343-979a-4d97-f110-d123e7e5c8ed"
      },
      "execution_count": 38,
      "outputs": [
        {
          "output_type": "execute_result",
          "data": {
            "text/plain": [
              "B110    2955.0\n",
              "B136    2660.0\n",
              "B171    2870.0\n",
              "B192    2920.0\n",
              "B225    2975.0\n",
              "B237    2790.0\n",
              "B261    2750.0\n",
              "B264    2770.0\n",
              "B353    2955.0\n",
              "B360    2945.0\n",
              "B366    2830.0\n",
              "B377    2835.0\n",
              "B391    2860.0\n",
              "B397    2965.0\n",
              "B404    2930.0\n",
              "B437    2770.0\n",
              "B445    2650.0\n",
              "B462    2890.0\n",
              "B485    2695.0\n",
              "B488    2755.0\n",
              "B502    3000.0\n",
              "B554    2980.0\n",
              "B556    2780.0\n",
              "B575    2705.0\n",
              "B576    2825.0\n",
              "B605    2875.0\n",
              "B612    2945.0\n",
              "B615    2920.0\n",
              "B649    2845.0\n",
              "B665    2645.0\n",
              "B674    3080.0\n",
              "B692    2825.0\n",
              "B694    3125.0\n",
              "B719    2780.0\n",
              "B727    2900.0\n",
              "B758    2570.0\n",
              "B776    2635.0\n",
              "B799    2725.0\n",
              "B836    2865.0\n",
              "B848    2975.0\n",
              "B861    2980.0\n",
              "B869    2870.0\n",
              "B876    2920.0\n",
              "B882    3100.0\n",
              "B889    2910.0\n",
              "B907    2865.0\n",
              "B911    2995.0\n",
              "B923    2925.0\n",
              "B971    2700.0\n",
              "B998    2845.0\n",
              "Name: Density, dtype: float64"
            ]
          },
          "metadata": {},
          "execution_count": 38
        }
      ]
    },
    {
      "cell_type": "code",
      "source": [
        "sc = StandardScaler()\n",
        "X = sc.fit_transform(np.array(df_food[continuous_cols]))\n",
        "print(X)"
      ],
      "metadata": {
        "id": "3pXBM9o9DGcb",
        "colab": {
          "base_uri": "https://localhost:8080/"
        },
        "outputId": "60e969bd-6eff-4cdd-d662-596001f11631"
      },
      "execution_count": 39,
      "outputs": [
        {
          "output_type": "stream",
          "name": "stdout",
          "text": [
            "[[-4.45429679e-01  7.90272081e-01  3.95480679e-01 -1.01185374e+00]\n",
            " [ 3.15988576e-01 -1.60326246e+00 -2.19177610e+00  3.51130771e-01]\n",
            " [-6.35784242e-01  1.00609587e-01 -7.13343654e-01  4.80938820e-01]\n",
            " [-3.18526636e-01  5.06293407e-01  1.87391312e+00 -1.07675776e+00]\n",
            " [-5.72332721e-01  9.52545608e-01  9.49892845e-01  4.80938820e-01]\n",
            " [ 1.20430987e+00 -5.48484524e-01 -8.98147709e-01  1.97373138e+00]\n",
            " [ 7.60149224e-01 -8.73031580e-01 -7.13343654e-01 -4.60169532e-01]\n",
            " [ 1.89085533e-01 -7.10758052e-01  9.49892845e-01 -2.11522215e+00]\n",
            " [-9.53041848e-01  7.90272081e-01  3.95480679e-01 -1.68101423e-01]\n",
            " [-5.08881200e-01  7.09135317e-01  5.80284734e-01  1.23966686e-01]\n",
            " [ 5.06343139e-01 -2.23937468e-01 -1.08295176e+00 -2.33005447e-01]\n",
            " [ 1.25634012e-01 -1.83369086e-01 -5.28539599e-01  1.42204717e+00]\n",
            " [ 7.60149224e-01  1.94728233e-02 -1.82216799e+00  1.35714315e+00]\n",
            " [-2.09516923e+00  8.71408844e-01 -3.43735543e-01  1.32469114e+00]\n",
            " [-8.89590327e-01  5.87430171e-01  9.49892845e-01 -2.05031813e+00]\n",
            " [-5.08881200e-01 -7.10758052e-01 -8.98147709e-01  1.77901931e+00]\n",
            " [ 1.07740683e+00 -1.68439922e+00 -1.58931488e-01 -4.60169532e-01]\n",
            " [ 6.21824908e-02  2.62883115e-01 -7.13343654e-01  4.48486808e-01]\n",
            " [-3.18526636e-01 -1.31928378e+00 -1.45255988e+00 -5.57525569e-01]\n",
            " [ 1.20430987e+00 -8.32463198e-01 -2.00697204e+00  3.83582784e-01]\n",
            " [-2.22207227e+00  1.15538752e+00  1.13469690e+00  1.58430723e+00]\n",
            " [-1.58755706e+00  9.93113990e-01 -1.58931488e-01  1.56418699e-01]\n",
            " [ 5.69794660e-01 -6.29621288e-01 -1.26775582e+00  7.08102905e-01]\n",
            " [-1.26903042e-03 -1.23814702e+00  1.13469690e+00 -4.92621544e-01]\n",
            " [ 9.50503787e-01 -2.64505850e-01 -1.58931488e-01  1.22733510e+00]\n",
            " [ 5.69794660e-01  1.41177969e-01 -1.08295176e+00  7.08102905e-01]\n",
            " [-3.81978158e-01  7.09135317e-01  7.65088789e-01 -9.14497702e-01]\n",
            " [-6.47205516e-02  5.06293407e-01  7.65088789e-01 -1.68101423e-01]\n",
            " [ 1.25634012e-01 -1.02232323e-01 -3.43735543e-01  2.66106500e-02]\n",
            " [ 1.39466444e+00 -1.72496760e+00 -5.28539599e-01 -1.95296209e+00]\n",
            " [-8.26138806e-01  1.80448163e+00  3.95480679e-01 -7.19785629e-01]\n",
            " [-6.47205516e-02 -2.64505850e-01  1.31950096e+00  9.15146742e-02]\n",
            " [-1.07994489e+00  2.16959707e+00  2.24352123e+00 -1.17411380e+00]\n",
            " [ 3.15988576e-01 -6.29621288e-01  2.10676623e-01  4.16034796e-01]\n",
            " [-8.26138806e-01  3.44019879e-01  2.58725678e-02  2.07108741e+00]\n",
            " [ 2.53679182e+00 -2.33349333e+00 -1.45255988e+00 -7.52237641e-01]\n",
            " [ 1.45811596e+00 -1.80610436e+00  2.10676623e-01 -8.82045690e-01]\n",
            " [ 2.09263117e+00 -1.07587349e+00 -8.98147709e-01  5.45842844e-01]\n",
            " [-1.28172073e-01  6.00412053e-02  2.10676623e-01 -9.14497702e-01]\n",
            " [-3.18526636e-01  9.52545608e-01  9.49892845e-01 -7.52237641e-01]\n",
            " [-2.55075115e-01  9.93113990e-01  5.80284734e-01  5.13390832e-01]\n",
            " [-2.55075115e-01  1.00609587e-01 -1.58931488e-01 -1.68101423e-01]\n",
            " [-5.72332721e-01  5.06293407e-01  2.10676623e-01  2.53774735e-01]\n",
            " [-6.35784242e-01  1.96675516e+00  1.13469690e+00  3.83582784e-01]\n",
            " [ 5.69794660e-01  4.25156643e-01  2.58725678e-02 -2.65457459e-01]\n",
            " [-3.81978158e-01  6.00412053e-02  7.65088789e-01 -2.65457459e-01]\n",
            " [-5.08881200e-01  1.11481914e+00 -1.58931488e-01  1.19488309e+00]\n",
            " [-1.33375098e+00  5.46861789e-01  1.50430501e+00 -3.30361484e-01]\n",
            " [ 2.47334030e+00 -1.27871540e+00 -8.98147709e-01 -3.95265508e-01]\n",
            " [-5.72332721e-01 -1.02232323e-01  9.49892845e-01 -1.72579801e+00]]\n"
          ]
        }
      ]
    },
    {
      "cell_type": "code",
      "source": [
        "a = np.array(df_food['Density'])\n",
        "print(np.mean(a))\n",
        "print(np.std(a))\n",
        "np.where((a-np.mean(a))/np.std(a) >= 1.5)"
      ],
      "metadata": {
        "id": "AxNogr-xEC1n",
        "colab": {
          "base_uri": "https://localhost:8080/"
        },
        "outputId": "f23c43d5-efe3-44d5-94f7-eb1b3dd75a15"
      },
      "execution_count": 40,
      "outputs": [
        {
          "output_type": "stream",
          "name": "stdout",
          "text": [
            "2857.6\n",
            "123.24869167662592\n"
          ]
        },
        {
          "output_type": "execute_result",
          "data": {
            "text/plain": [
              "(array([30, 32, 43]),)"
            ]
          },
          "metadata": {},
          "execution_count": 40
        }
      ]
    },
    {
      "cell_type": "code",
      "source": [
        "fig, ax = plt.subplots(1, 1, figsize = (10, 6))\n",
        "fig.tight_layout(pad = 4.0)\n",
        "binwidth = 20\n",
        "ax.hist(a, bins = np.arange(np.min(a), np.max(a) + binwidth, binwidth))\n",
        "ax.set_xlabel('Oil Density', fontsize = 14)\n",
        "ax.set_ylabel('Count', fontsize = 14)\n",
        "ax.set_xticks(np.arange(np.min(a), np.max(a) + binwidth, binwidth));"
      ],
      "metadata": {
        "id": "pOmb3XVDGLjn",
        "colab": {
          "base_uri": "https://localhost:8080/",
          "height": 542
        },
        "outputId": "c7a6f51c-7fa7-4d1c-bd51-e84bee3668f7"
      },
      "execution_count": 41,
      "outputs": [
        {
          "output_type": "display_data",
          "data": {
            "text/plain": [
              "<Figure size 1000x600 with 1 Axes>"
            ],
            "image/png": "[encoded data removed]"
          },
          "metadata": {}
        }
      ]
    },
    {
      "cell_type": "code",
      "source": [
        "# numpy array of data\n",
        "sc = StandardScaler()\n",
        "X = sc.fit_transform(np.array(df_food[continuous_cols]))\n",
        "# Cree and fit PCA object\n",
        "pca = PCA(n_components = 1)\n",
        "pca.fit(X)\n",
        "\n",
        "# Print principal components\n",
        "print(pca.components_)\n",
        "\n",
        "# Print explained variance\n",
        "print(pca.explained_variance_)"
      ],
      "metadata": {
        "id": "acdAJkhWCuqF",
        "colab": {
          "base_uri": "https://localhost:8080/"
        },
        "outputId": "02711dfd-6919-49fe-e388-a39d9a57350a"
      },
      "execution_count": 42,
      "outputs": [
        {
          "output_type": "stream",
          "name": "stdout",
          "text": [
            "[[ 0.58633268 -0.59639892 -0.54419604  0.06612857]]\n",
            "[2.29331669]\n"
          ]
        }
      ]
    },
    {
      "cell_type": "code",
      "source": [
        "v = np.array(pca.components_).flatten()\n",
        "print(v)\n",
        "print(X[0, :])\n",
        "np.dot(X[0, :], v)\n",
        "np.dot(X, v)"
      ],
      "metadata": {
        "id": "zOkvcqeeJK8H",
        "colab": {
          "base_uri": "https://localhost:8080/"
        },
        "outputId": "67686c5e-735e-4366-bf46-182fb9c06dff"
      },
      "execution_count": 43,
      "outputs": [
        {
          "output_type": "stream",
          "name": "stdout",
          "text": [
            "[ 0.58633268 -0.59639892 -0.54419604  0.06612857]\n",
            "[-0.44542968  0.79027208  0.39548068 -1.01185374]\n"
          ]
        },
        {
          "output_type": "execute_result",
          "data": {
            "text/plain": [
              "array([-1.01461885,  2.35743408, -0.01278194, -1.57969597, -1.38879868,\n",
              "        1.65253027,  1.32414386, -0.12204218, -1.25645232, -1.02889213,\n",
              "        1.00437134,  0.56469155,  1.51544929, -1.47351403, -1.52445113,\n",
              "        0.73193409,  1.69235224,  0.297533  ,  1.35366581,  2.3201584 ,\n",
              "       -2.50467504, -1.42629506,  1.44632821,  0.08761156,  0.88271423,\n",
              "        0.88605473, -1.12372653, -0.76737521,  0.32345382,  2.00498872,\n",
              "       -1.82340049, -0.59221223, -3.22571017,  0.47364229, -0.56668696,\n",
              "        3.61982978,  1.75912193,  2.39349206, -0.28608379, -1.32153207,\n",
              "       -1.02368984, -0.13418874, -0.73539784, -2.13788351,  0.04889219,\n",
              "       -0.6936874 , -0.79774481, -1.94865272,  2.67545481, -0.90565861])"
            ]
          },
          "metadata": {},
          "execution_count": 43
        }
      ]
    },
    {
      "cell_type": "code",
      "source": [
        "# numpy array of data\n",
        "sc = StandardScaler()\n",
        "X = sc.fit_transform(np.array(df_food[continuous_cols]))\n",
        "# Create and fit PCA object\n",
        "pca = PCA(n_components = 2)\n",
        "pca.fit(X)\n",
        "\n",
        "# Print principal components\n",
        "print(pca.components_)\n",
        "\n",
        "# Print explained variance\n",
        "print(pca.explained_variance_)"
      ],
      "metadata": {
        "id": "Zmz9KvmiLQc_",
        "colab": {
          "base_uri": "https://localhost:8080/"
        },
        "outputId": "71d3e405-ab02-43f7-a161-99a2ccf1bb4b"
      },
      "execution_count": 44,
      "outputs": [
        {
          "output_type": "stream",
          "name": "stdout",
          "text": [
            "[[ 0.58633268 -0.59639892 -0.54419604  0.06612857]\n",
            " [ 0.22401109 -0.21977465  0.37628261 -0.87173937]]\n",
            "[2.29331669 1.2378076 ]\n"
          ]
        }
      ]
    },
    {
      "cell_type": "code",
      "source": [
        "print(pca.explained_variance_)\n",
        "print(np.cumsum(pca.explained_variance_))\n",
        "print(2.29331669/4.08163265)\n",
        "print(3.53112429/4.08163265)\n",
        "print(3.83852725/4.08163265)"
      ],
      "metadata": {
        "id": "xAuD1OZENW0F",
        "colab": {
          "base_uri": "https://localhost:8080/"
        },
        "outputId": "dc1dc387-660d-4cd6-d9fe-8b4b42def19c"
      },
      "execution_count": 45,
      "outputs": [
        {
          "output_type": "stream",
          "name": "stdout",
          "text": [
            "[2.29331669 1.2378076 ]\n",
            "[2.29331669 3.53112429]\n",
            "0.5618625894713969\n",
            "0.865125451698844\n",
            "0.9404391769553292\n"
          ]
        }
      ]
    },
    {
      "cell_type": "markdown",
      "source": [
        "---\n",
        "\n",
        "Following is a user-defined function for plotting 2D-data and the principal component vectors\n",
        "\n",
        "---"
      ],
      "metadata": {
        "id": "bucuCZ-3vCcS"
      }
    },
    {
      "cell_type": "code",
      "source": [
        "def draw_vector(v0, v1, ax = None):\n",
        "  ax = ax or plt.gca()\n",
        "  arrowprops=dict(arrowstyle = '->',\n",
        "  linewidth=2,\n",
        "  shrinkA=0, shrinkB=0)\n",
        "  ax.annotate('', v1, v0, arrowprops = arrowprops)"
      ],
      "metadata": {
        "id": "i0VsiVcFuXGU"
      },
      "execution_count": null,
      "outputs": []
    },
    {
      "cell_type": "code",
      "source": [
        "pca.mean_"
      ],
      "metadata": {
        "id": "K250JEWwQf7Q"
      },
      "execution_count": null,
      "outputs": []
    },
    {
      "cell_type": "code",
      "source": [
        "## Plot data with principal component vectors\n",
        "plt.scatter(X[:, 0], X[:, 1], alpha=0.2)\n",
        "for length, vector in zip(pca.explained_variance_, pca.components_):\n",
        " v = vector * 3 * np.sqrt(length)\n",
        " draw_vector(pca.mean_, pca.mean_ + v)\n",
        "plt.axis('equal');"
      ],
      "metadata": {
        "id": "jQ8XGC_YvZIj"
      },
      "execution_count": null,
      "outputs": []
    },
    {
      "cell_type": "code",
      "source": [
        "np.dot(X, np.array(pca.components_))"
      ],
      "metadata": {
        "id": "Dgval7UIQxVP"
      },
      "execution_count": null,
      "outputs": []
    }
  ]
}